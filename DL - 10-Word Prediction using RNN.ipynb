{
 "cells": [
  {
   "cell_type": "markdown",
   "metadata": {
    "id": "aRTJflrzjWF1"
   },
   "source": [
    "# Exercise 10: Word Prediction using RNN\n"
   ]
  },
  {
   "cell_type": "markdown",
   "metadata": {
    "id": "BwG6tut90t3G"
   },
   "source": [
    "## Objective : Learning the application of RNN in word prediction"
   ]
  },
  {
   "cell_type": "markdown",
   "metadata": {
    "id": "qETGNx0U0tn5"
   },
   "source": [
    "## Problem : Consider the sentence : \"India is ready to produces over five billion Covid Vaccine doeses next year to help the world in the fight against the pandamic\".\n",
    "## Construct a RNN using the above sentence as training data to predict a word and evaluate its performance"
   ]
  },
  {
   "cell_type": "markdown",
   "metadata": {
    "id": "ueFCMQiE1nwM"
   },
   "source": [
    "# Step 1: Preprocessing of the data"
   ]
  },
  {
   "cell_type": "markdown",
   "metadata": {
    "id": "CxeIkWbl5TQS"
   },
   "source": [
    "**Tokenizing**"
   ]
  },
  {
   "cell_type": "code",
   "execution_count": null,
   "metadata": {
    "id": "UHgGqm4V1sh_"
   },
   "outputs": [],
   "source": [
    "from keras.preprocessing.text import Tokenizer"
   ]
  },
  {
   "cell_type": "code",
   "execution_count": null,
   "metadata": {
    "id": "BJyFsFpc0kRJ"
   },
   "outputs": [],
   "source": [
    "t=Tokenizer()"
   ]
  },
  {
   "cell_type": "code",
   "execution_count": null,
   "metadata": {
    "id": "qd3dziMh2KUJ"
   },
   "outputs": [],
   "source": [
    "data=\"India is ready to produce over five billion Covid Vaccine doeses next\" + \n",
    "\"year to help the world in the fight against the pandamic\""
   ]
  },
  {
   "cell_type": "code",
   "execution_count": null,
   "metadata": {
    "id": "yYg9f0N_2_qo"
   },
   "outputs": [],
   "source": [
    "t.fit_on_texts([data])"
   ]
  },
  {
   "cell_type": "code",
   "execution_count": null,
   "metadata": {
    "colab": {
     "base_uri": "https://localhost:8080/"
    },
    "id": "p5q6LW-b3Xtw",
    "outputId": "feec5a6c-469a-44fe-8715-049fa0436957"
   },
   "outputs": [
    {
     "name": "stdout",
     "output_type": "stream",
     "text": [
      "{'the': 1, 'to': 2, 'india': 3, 'is': 4, 'ready': 5, 'produce': 6, 'over': 7, 'five': 8, 'billion': 9, 'covid': 10, 'vaccine': 11, 'doeses': 12, 'next': 13, 'year': 14, 'help': 15, 'world': 16, 'in': 17, 'fight': 18, 'against': 19, 'pandamic': 20}\n"
     ]
    }
   ],
   "source": [
    "wo_indx=t.word_index\n",
    "print(wo_indx)"
   ]
  },
  {
   "cell_type": "markdown",
   "metadata": {
    "id": "DqxI_kJ25YBK"
   },
   "source": [
    "**Numeric encoding of the data**"
   ]
  },
  {
   "cell_type": "code",
   "execution_count": null,
   "metadata": {
    "id": "m8D4A_6g5iME"
   },
   "outputs": [],
   "source": [
    "encoded_data=t.texts_to_sequences([data])[0] "
   ]
  },
  {
   "cell_type": "markdown",
   "metadata": {
    "id": "YzBtX_YZ72Je"
   },
   "source": [
    "**Creating feature and target values for predicting a word when a single word is given**"
   ]
  },
  {
   "cell_type": "code",
   "execution_count": null,
   "metadata": {
    "id": "GRCqYqwp8Arv"
   },
   "outputs": [],
   "source": [
    "n=len(encoded_data) # to know the number of items in the sequence\n",
    "dt_seq=list()\n",
    "for i  in range(1,n):\n",
    "  seq=encoded_data[i-1:i+1]\n",
    "  dt_seq.append(seq)\n",
    "  #dt_seq"
   ]
  },
  {
   "cell_type": "code",
   "execution_count": null,
   "metadata": {
    "id": "-gyMcxxtAZNS"
   },
   "outputs": [],
   "source": [
    "import  numpy as np\n",
    "seq=np.array(dt_seq)\n",
    "#seq\n",
    "X,y=seq[:,0],seq[:,1]"
   ]
  },
  {
   "cell_type": "code",
   "execution_count": null,
   "metadata": {
    "colab": {
     "base_uri": "https://localhost:8080/"
    },
    "id": "VJfkmfftAzqf",
    "outputId": "77a1fc1f-7316-4c53-ae2f-2c04d133b878"
   },
   "outputs": [
    {
     "data": {
      "text/plain": [
       "array([ 4,  5,  2,  6,  7,  8,  9, 10, 11, 12, 13, 14,  2, 15,  1, 16, 17,\n",
       "        1, 18, 19,  1, 20])"
      ]
     },
     "execution_count": 52,
     "metadata": {},
     "output_type": "execute_result"
    }
   ],
   "source": [
    "y"
   ]
  },
  {
   "cell_type": "markdown",
   "metadata": {
    "id": "ZpUUhrEJDXye"
   },
   "source": [
    "**Converting y values into categorical**"
   ]
  },
  {
   "cell_type": "code",
   "execution_count": null,
   "metadata": {
    "id": "5RUSxaRwDsj8"
   },
   "outputs": [],
   "source": [
    "from keras.utils import np_utils\n",
    "voc_size=len(t.word_index)+1\n",
    "y_cat=np_utils.to_categorical(y,num_classes=voc_size)"
   ]
  },
  {
   "cell_type": "markdown",
   "metadata": {
    "id": "35oQvI7FF_FB"
   },
   "source": [
    "# Step 2: Construction of RNN"
   ]
  },
  {
   "cell_type": "code",
   "execution_count": null,
   "metadata": {
    "id": "Kj0T4NhpEfu4"
   },
   "outputs": [],
   "source": [
    "from keras.models import Sequential\n",
    "from keras.layers import Embedding,Flatten\n",
    "from keras.layers import Dense\n",
    "from keras.layers import SimpleRNN\n",
    "from keras.metrics import TopKCategoricalAccuracy"
   ]
  },
  {
   "cell_type": "code",
   "execution_count": null,
   "metadata": {
    "colab": {
     "base_uri": "https://localhost:8080/"
    },
    "id": "nw2alk6uHOYI",
    "outputId": "0d263482-9abd-4f7c-e63d-7e08c30d1231"
   },
   "outputs": [
    {
     "name": "stdout",
     "output_type": "stream",
     "text": [
      "Model: \"sequential_1\"\n",
      "_________________________________________________________________\n",
      " Layer (type)                Output Shape              Param #   \n",
      "=================================================================\n",
      " embedding_1 (Embedding)     (None, 1, 10)             210       \n",
      "                                                                 \n",
      " simple_rnn_1 (SimpleRNN)    (None, 50)                3050      \n",
      "                                                                 \n",
      " dense (Dense)               (None, 21)                1071      \n",
      "                                                                 \n",
      "=================================================================\n",
      "Total params: 4,331\n",
      "Trainable params: 4,331\n",
      "Non-trainable params: 0\n",
      "_________________________________________________________________\n",
      "None\n"
     ]
    }
   ],
   "source": [
    "model=Sequential()\n",
    "model.add(Embedding(voc_size,10,input_length=1)) # meant for predicting one word given the previous one\n",
    "#model.add(Flatten())\n",
    "model.add(SimpleRNN(50))\n",
    "model.add(Dense(voc_size,'softmax'))\n",
    "print(model.summary())"
   ]
  },
  {
   "cell_type": "markdown",
   "metadata": {
    "id": "RnBzQivsIOvi"
   },
   "source": [
    "# Step 3: Compilation,Fitting and Prediction"
   ]
  },
  {
   "cell_type": "code",
   "execution_count": null,
   "metadata": {
    "id": "Sm2Zu-0CIVAE"
   },
   "outputs": [],
   "source": [
    "model.compile(optimizer='adam',loss='categorical_crossentropy',metrics=['accuracy'])"
   ]
  },
  {
   "cell_type": "code",
   "execution_count": null,
   "metadata": {
    "id": "rCIPWRxKJHPm"
   },
   "outputs": [],
   "source": [
    "model.fit(X,y_cat,epochs=500)"
   ]
  },
  {
   "cell_type": "code",
   "execution_count": null,
   "metadata": {
    "colab": {
     "base_uri": "https://localhost:8080/"
    },
    "id": "czRHRKHMMV8J",
    "outputId": "12e44d05-2bad-40b2-b102-1eabe53f450f"
   },
   "outputs": [
    {
     "name": "stdout",
     "output_type": "stream",
     "text": [
      "1/1 [==============================] - 0s 22ms/step\n"
     ]
    }
   ],
   "source": [
    "pred=np.argmax(model.predict(X),axis=1)"
   ]
  },
  {
   "cell_type": "code",
   "execution_count": null,
   "metadata": {
    "colab": {
     "base_uri": "https://localhost:8080/"
    },
    "id": "BZtXUM1SM94F",
    "outputId": "517ae1fb-544b-45f9-e4e3-ae318f3d4629"
   },
   "outputs": [
    {
     "data": {
      "text/plain": [
       "array([ 4,  5,  2, 15,  7,  8,  9, 10, 11, 12, 13, 14,  2, 15,  1, 20, 17,\n",
       "        1, 20, 19,  1, 20])"
      ]
     },
     "execution_count": 89,
     "metadata": {},
     "output_type": "execute_result"
    }
   ],
   "source": [
    "pred"
   ]
  },
  {
   "cell_type": "markdown",
   "metadata": {
    "id": "8pWPjHUyNB-R"
   },
   "source": [
    "# Step 4: Decoding the predicted values"
   ]
  },
  {
   "cell_type": "code",
   "execution_count": null,
   "metadata": {
    "colab": {
     "base_uri": "https://localhost:8080/",
     "height": 35
    },
    "id": "iHZUXnO5NGs8",
    "outputId": "db857855-1e2d-4c57-8802-1639be62eb3d"
   },
   "outputs": [
    {
     "data": {
      "application/vnd.google.colaboratory.intrinsic+json": {
       "type": "string"
      },
      "text/plain": [
       "'ready'"
      ]
     },
     "execution_count": 104,
     "metadata": {},
     "output_type": "execute_result"
    }
   ],
   "source": [
    "word=list(wo_indx.keys())  # collect the keys and store it as a list\n",
    "word[4]"
   ]
  },
  {
   "cell_type": "code",
   "execution_count": null,
   "metadata": {
    "colab": {
     "base_uri": "https://localhost:8080/",
     "height": 35
    },
    "id": "2Y_Bi8_LOAIU",
    "outputId": "d4ccc037-60da-44d5-f0bb-a190ea8ba3c2"
   },
   "outputs": [
    {
     "data": {
      "application/vnd.google.colaboratory.intrinsic+json": {
       "type": "string"
      },
      "text/plain": [
       "' is ready to help over five billion covid vaccine doeses next year to help the pandamic in the pandamic against the pandamic'"
      ]
     },
     "execution_count": 111,
     "metadata": {},
     "output_type": "execute_result"
    }
   ],
   "source": [
    "pr_words=''\n",
    "for i in range (1,len(pred)+1):\n",
    "  pr_words=pr_words+' ' + word[pred[i-1]-1]\n",
    "pr_words "
   ]
  },
  {
   "cell_type": "markdown",
   "metadata": {
    "id": "cH-5kOyySOox"
   },
   "source": [
    "# Step 5: Out of Sample Prediction : We shall predict the term which follows 'five'"
   ]
  },
  {
   "cell_type": "code",
   "execution_count": null,
   "metadata": {
    "colab": {
     "base_uri": "https://localhost:8080/"
    },
    "id": "1MzgZpGGS7Zh",
    "outputId": "72f8f1fc-f24c-45ba-899b-c4fd16bea1c0"
   },
   "outputs": [
    {
     "name": "stdout",
     "output_type": "stream",
     "text": [
      "1/1 [==============================] - 0s 22ms/step\n",
      "Predicted word is billion\n"
     ]
    }
   ],
   "source": [
    "# To predict the word which follows five we make use of inded namely 8\n",
    "\n",
    "print('Predicted word is', word  [np.argmax(model.predict (np.array([8]) )) -1] )\n"
   ]
  },
  {
   "cell_type": "markdown",
   "metadata": {},
   "source": [
    "# Conclusion: Thus, we constructed RNN model predict a word from the given sentence"
   ]
  },
  {
   "cell_type": "code",
   "execution_count": null,
   "metadata": {},
   "outputs": [],
   "source": []
  }
 ],
 "metadata": {
  "colab": {
   "provenance": []
  },
  "kernelspec": {
   "display_name": "Python 3 (ipykernel)",
   "language": "python",
   "name": "python3"
  },
  "language_info": {
   "codemirror_mode": {
    "name": "ipython",
    "version": 3
   },
   "file_extension": ".py",
   "mimetype": "text/x-python",
   "name": "python",
   "nbconvert_exporter": "python",
   "pygments_lexer": "ipython3",
   "version": "3.11.5"
  }
 },
 "nbformat": 4,
 "nbformat_minor": 1
}
