{
 "cells": [
  {
   "cell_type": "markdown",
   "metadata": {
    "id": "oemXn852F71z"
   },
   "source": [
    "# Exercise : Constraints"
   ]
  },
  {
   "cell_type": "code",
   "execution_count": null,
   "metadata": {
    "colab": {
     "base_uri": "https://localhost:8080/",
     "height": 73
    },
    "id": "gxl6BzIO-jnH",
    "outputId": "4c92c02d-49dd-4ff9-d6ad-417a95f2482c"
   },
   "outputs": [
    {
     "data": {
      "text/html": [
       "\n",
       "     <input type=\"file\" id=\"files-0112588a-e7d3-4342-9880-a17d5bed4deb\" name=\"files[]\" multiple disabled\n",
       "        style=\"border:none\" />\n",
       "     <output id=\"result-0112588a-e7d3-4342-9880-a17d5bed4deb\">\n",
       "      Upload widget is only available when the cell has been executed in the\n",
       "      current browser session. Please rerun this cell to enable.\n",
       "      </output>\n",
       "      <script>// Copyright 2017 Google LLC\n",
       "//\n",
       "// Licensed under the Apache License, Version 2.0 (the \"License\");\n",
       "// you may not use this file except in compliance with the License.\n",
       "// You may obtain a copy of the License at\n",
       "//\n",
       "//      http://www.apache.org/licenses/LICENSE-2.0\n",
       "//\n",
       "// Unless required by applicable law or agreed to in writing, software\n",
       "// distributed under the License is distributed on an \"AS IS\" BASIS,\n",
       "// WITHOUT WARRANTIES OR CONDITIONS OF ANY KIND, either express or implied.\n",
       "// See the License for the specific language governing permissions and\n",
       "// limitations under the License.\n",
       "\n",
       "/**\n",
       " * @fileoverview Helpers for google.colab Python module.\n",
       " */\n",
       "(function(scope) {\n",
       "function span(text, styleAttributes = {}) {\n",
       "  const element = document.createElement('span');\n",
       "  element.textContent = text;\n",
       "  for (const key of Object.keys(styleAttributes)) {\n",
       "    element.style[key] = styleAttributes[key];\n",
       "  }\n",
       "  return element;\n",
       "}\n",
       "\n",
       "// Max number of bytes which will be uploaded at a time.\n",
       "const MAX_PAYLOAD_SIZE = 100 * 1024;\n",
       "\n",
       "function _uploadFiles(inputId, outputId) {\n",
       "  const steps = uploadFilesStep(inputId, outputId);\n",
       "  const outputElement = document.getElementById(outputId);\n",
       "  // Cache steps on the outputElement to make it available for the next call\n",
       "  // to uploadFilesContinue from Python.\n",
       "  outputElement.steps = steps;\n",
       "\n",
       "  return _uploadFilesContinue(outputId);\n",
       "}\n",
       "\n",
       "// This is roughly an async generator (not supported in the browser yet),\n",
       "// where there are multiple asynchronous steps and the Python side is going\n",
       "// to poll for completion of each step.\n",
       "// This uses a Promise to block the python side on completion of each step,\n",
       "// then passes the result of the previous step as the input to the next step.\n",
       "function _uploadFilesContinue(outputId) {\n",
       "  const outputElement = document.getElementById(outputId);\n",
       "  const steps = outputElement.steps;\n",
       "\n",
       "  const next = steps.next(outputElement.lastPromiseValue);\n",
       "  return Promise.resolve(next.value.promise).then((value) => {\n",
       "    // Cache the last promise value to make it available to the next\n",
       "    // step of the generator.\n",
       "    outputElement.lastPromiseValue = value;\n",
       "    return next.value.response;\n",
       "  });\n",
       "}\n",
       "\n",
       "/**\n",
       " * Generator function which is called between each async step of the upload\n",
       " * process.\n",
       " * @param {string} inputId Element ID of the input file picker element.\n",
       " * @param {string} outputId Element ID of the output display.\n",
       " * @return {!Iterable<!Object>} Iterable of next steps.\n",
       " */\n",
       "function* uploadFilesStep(inputId, outputId) {\n",
       "  const inputElement = document.getElementById(inputId);\n",
       "  inputElement.disabled = false;\n",
       "\n",
       "  const outputElement = document.getElementById(outputId);\n",
       "  outputElement.innerHTML = '';\n",
       "\n",
       "  const pickedPromise = new Promise((resolve) => {\n",
       "    inputElement.addEventListener('change', (e) => {\n",
       "      resolve(e.target.files);\n",
       "    });\n",
       "  });\n",
       "\n",
       "  const cancel = document.createElement('button');\n",
       "  inputElement.parentElement.appendChild(cancel);\n",
       "  cancel.textContent = 'Cancel upload';\n",
       "  const cancelPromise = new Promise((resolve) => {\n",
       "    cancel.onclick = () => {\n",
       "      resolve(null);\n",
       "    };\n",
       "  });\n",
       "\n",
       "  // Wait for the user to pick the files.\n",
       "  const files = yield {\n",
       "    promise: Promise.race([pickedPromise, cancelPromise]),\n",
       "    response: {\n",
       "      action: 'starting',\n",
       "    }\n",
       "  };\n",
       "\n",
       "  cancel.remove();\n",
       "\n",
       "  // Disable the input element since further picks are not allowed.\n",
       "  inputElement.disabled = true;\n",
       "\n",
       "  if (!files) {\n",
       "    return {\n",
       "      response: {\n",
       "        action: 'complete',\n",
       "      }\n",
       "    };\n",
       "  }\n",
       "\n",
       "  for (const file of files) {\n",
       "    const li = document.createElement('li');\n",
       "    li.append(span(file.name, {fontWeight: 'bold'}));\n",
       "    li.append(span(\n",
       "        `(${file.type || 'n/a'}) - ${file.size} bytes, ` +\n",
       "        `last modified: ${\n",
       "            file.lastModifiedDate ? file.lastModifiedDate.toLocaleDateString() :\n",
       "                                    'n/a'} - `));\n",
       "    const percent = span('0% done');\n",
       "    li.appendChild(percent);\n",
       "\n",
       "    outputElement.appendChild(li);\n",
       "\n",
       "    const fileDataPromise = new Promise((resolve) => {\n",
       "      const reader = new FileReader();\n",
       "      reader.onload = (e) => {\n",
       "        resolve(e.target.result);\n",
       "      };\n",
       "      reader.readAsArrayBuffer(file);\n",
       "    });\n",
       "    // Wait for the data to be ready.\n",
       "    let fileData = yield {\n",
       "      promise: fileDataPromise,\n",
       "      response: {\n",
       "        action: 'continue',\n",
       "      }\n",
       "    };\n",
       "\n",
       "    // Use a chunked sending to avoid message size limits. See b/62115660.\n",
       "    let position = 0;\n",
       "    do {\n",
       "      const length = Math.min(fileData.byteLength - position, MAX_PAYLOAD_SIZE);\n",
       "      const chunk = new Uint8Array(fileData, position, length);\n",
       "      position += length;\n",
       "\n",
       "      const base64 = btoa(String.fromCharCode.apply(null, chunk));\n",
       "      yield {\n",
       "        response: {\n",
       "          action: 'append',\n",
       "          file: file.name,\n",
       "          data: base64,\n",
       "        },\n",
       "      };\n",
       "\n",
       "      let percentDone = fileData.byteLength === 0 ?\n",
       "          100 :\n",
       "          Math.round((position / fileData.byteLength) * 100);\n",
       "      percent.textContent = `${percentDone}% done`;\n",
       "\n",
       "    } while (position < fileData.byteLength);\n",
       "  }\n",
       "\n",
       "  // All done.\n",
       "  yield {\n",
       "    response: {\n",
       "      action: 'complete',\n",
       "    }\n",
       "  };\n",
       "}\n",
       "\n",
       "scope.google = scope.google || {};\n",
       "scope.google.colab = scope.google.colab || {};\n",
       "scope.google.colab._files = {\n",
       "  _uploadFiles,\n",
       "  _uploadFilesContinue,\n",
       "};\n",
       "})(self);\n",
       "</script> "
      ],
      "text/plain": [
       "<IPython.core.display.HTML object>"
      ]
     },
     "metadata": {},
     "output_type": "display_data"
    },
    {
     "name": "stdout",
     "output_type": "stream",
     "text": [
      "Saving delivery-time.csv to delivery-time.csv\n"
     ]
    }
   ],
   "source": [
    "from google.colab import files\n",
    "upload=files.upload()"
   ]
  },
  {
   "cell_type": "code",
   "execution_count": null,
   "metadata": {
    "id": "TtvtxLRiAMJ2"
   },
   "outputs": [],
   "source": [
    "import io\n",
    "import pandas as pd\n",
    "df=pd.read_csv(io.BytesIO(upload['delivery-time.csv']))\n",
    "df.head()\n",
    "X=df.iloc[:,1:3]\n",
    "y=df.iloc[:,0]"
   ]
  },
  {
   "cell_type": "markdown",
   "metadata": {
    "id": "eWEW0m45L0TS"
   },
   "source": [
    "# Unconstrained"
   ]
  },
  {
   "cell_type": "code",
   "execution_count": null,
   "metadata": {
    "colab": {
     "base_uri": "https://localhost:8080/"
    },
    "id": "8_H8q8spA0zO",
    "outputId": "f249125d-2363-4965-e1e0-1fdd11b1b024"
   },
   "outputs": [
    {
     "data": {
      "text/plain": [
       "[array([[ 0.962755  , -0.04816267,  0.60737836,  0.29923853],\n",
       "        [-0.7566293 ,  0.48503706,  0.12725769, -0.01584307]],\n",
       "       dtype=float32),\n",
       " array([-0.01727506,  0.01683282, -0.01724097, -0.01712953], dtype=float32)]"
      ]
     },
     "execution_count": 13,
     "metadata": {},
     "output_type": "execute_result"
    }
   ],
   "source": [
    "from keras import models,layers\n",
    "model=models.Sequential()\n",
    "model.add(layers.Dense(4,input_dim=2))\n",
    "model.compile(loss='mse')\n",
    "model.fit(X,y,epochs=10,verbose=0)\n",
    "model.get_weights()"
   ]
  },
  {
   "cell_type": "code",
   "execution_count": null,
   "metadata": {
    "colab": {
     "base_uri": "https://localhost:8080/"
    },
    "id": "X1kSAX0MBVlh",
    "outputId": "77c586e0-de06-42fb-85bc-353de79909ce"
   },
   "outputs": [
    {
     "data": {
      "text/plain": [
       "[array([[ 0.962755  , -0.04816267,  0.60737836,  0.29923853],\n",
       "        [-0.7566293 ,  0.48503706,  0.12725769, -0.01584307]],\n",
       "       dtype=float32),\n",
       " array([-0.01727506,  0.01683282, -0.01724097, -0.01712953], dtype=float32)]"
      ]
     },
     "execution_count": 14,
     "metadata": {},
     "output_type": "execute_result"
    }
   ],
   "source": [
    "model.get_weights()"
   ]
  },
  {
   "cell_type": "markdown",
   "metadata": {
    "id": "i6--LjYpExX6"
   },
   "source": [
    "# Non Negativity Constraint"
   ]
  },
  {
   "cell_type": "code",
   "execution_count": null,
   "metadata": {
    "colab": {
     "base_uri": "https://localhost:8080/"
    },
    "id": "OaQ-zNpoCe96",
    "outputId": "c03f573e-25f3-41be-d466-f34e4c32ba4e"
   },
   "outputs": [
    {
     "data": {
      "text/plain": [
       "[array([[ 0.75825644,  0.699994  ,  0.00382448,  0.00262713],\n",
       "        [-0.        ,  0.4489392 ,  0.00412897,  0.00285896]],\n",
       "       dtype=float32),\n",
       " array([-0.        , -0.        ,  0.00727173,  0.00600418], dtype=float32)]"
      ]
     },
     "execution_count": 16,
     "metadata": {},
     "output_type": "execute_result"
    }
   ],
   "source": [
    "from keras.constraints import NonNeg\n",
    "model=models.Sequential()\n",
    "model.add(layers.Dense(4,input_dim=2,kernel_constraint=NonNeg(),bias_constraint=NonNeg()))\n",
    "model.compile(loss='mse')\n",
    "model.fit(X,y,epochs=10,verbose=0)\n",
    "model.get_weights()"
   ]
  },
  {
   "cell_type": "markdown",
   "metadata": {
    "id": "hXjBeZ1yE1JB"
   },
   "source": [
    "# UnitNorm Constraint"
   ]
  },
  {
   "cell_type": "code",
   "execution_count": null,
   "metadata": {
    "colab": {
     "base_uri": "https://localhost:8080/"
    },
    "id": "8Kx4gMIFFDPj",
    "outputId": "3feb348e-ca72-4640-a87f-64a7f9e17351"
   },
   "outputs": [
    {
     "data": {
      "text/plain": [
       "[array([[-0.8142406 ,  0.96815366, -0.5326601 , -0.27565104],\n",
       "        [-0.58052737,  0.25035608, -0.8463291 ,  0.9612576 ]],\n",
       "       dtype=float32),\n",
       " array([ 0.01798246, -0.01798182,  0.01787408,  0.01703612], dtype=float32)]"
      ]
     },
     "execution_count": 17,
     "metadata": {},
     "output_type": "execute_result"
    }
   ],
   "source": [
    "from keras.constraints import UnitNorm\n",
    "model=models.Sequential()\n",
    "model.add(layers.Dense(4,input_dim=2,kernel_constraint=UnitNorm()))\n",
    "model.compile(loss='mse')\n",
    "model.fit(X,y,epochs=10,verbose=0)\n",
    "model.get_weights()"
   ]
  },
  {
   "cell_type": "code",
   "execution_count": null,
   "metadata": {
    "colab": {
     "base_uri": "https://localhost:8080/"
    },
    "id": "1F8lA_TfGVr5",
    "outputId": "742ffd4c-dc63-40d9-acb2-f4f4a221de13"
   },
   "outputs": [
    {
     "name": "stdout",
     "output_type": "stream",
     "text": [
      "0.9999998658895403\n",
      "0.9999998249113407\n",
      "0.9999998807907033\n",
      "0.9999998062848857\n"
     ]
    }
   ],
   "source": [
    "import numpy as np\n",
    "wgts=model.get_weights()\n",
    "k1=wgts[0]\n",
    "k1.shape\n",
    "for i in range(4):\n",
    "  print(np.sqrt(sum(k1[:,i]*k1[:,i])))"
   ]
  },
  {
   "cell_type": "markdown",
   "metadata": {
    "id": "W4cZrWL2Ibo3"
   },
   "source": [
    "# MaxNorm Constraint"
   ]
  },
  {
   "cell_type": "code",
   "execution_count": null,
   "metadata": {
    "colab": {
     "base_uri": "https://localhost:8080/"
    },
    "id": "sh4SH93WIiBu",
    "outputId": "719f1d75-d21a-4b8f-f585-d6822b2a3551"
   },
   "outputs": [
    {
     "name": "stdout",
     "output_type": "stream",
     "text": [
      "0.28268299681079034\n",
      "0.28304879817788364\n",
      "0.2943669175650173\n",
      "0.26903507702255947\n"
     ]
    }
   ],
   "source": [
    "from keras.constraints import MaxNorm\n",
    "model=models.Sequential()\n",
    "model.add(layers.Dense(4,input_dim=2,kernel_constraint=MaxNorm(0.3)))\n",
    "model.compile(loss='mse')\n",
    "model.fit(X,y,epochs=10,verbose=0)\n",
    "wgts=model.get_weights()\n",
    "k1=wgts[0]\n",
    "k1.shape\n",
    "for i in range(4):\n",
    "  print(np.sqrt(sum(k1[:,i]*k1[:,i])))"
   ]
  },
  {
   "cell_type": "markdown",
   "metadata": {
    "id": "hnOa6ZAvJLVC"
   },
   "source": [
    "# MinMaxNorm Constraint"
   ]
  },
  {
   "cell_type": "code",
   "execution_count": null,
   "metadata": {
    "colab": {
     "base_uri": "https://localhost:8080/"
    },
    "id": "4pII78w5JOKr",
    "outputId": "b14f5065-17dc-4afa-f3ef-0098198bfb01"
   },
   "outputs": [
    {
     "name": "stdout",
     "output_type": "stream",
     "text": [
      "0.6986070546602706\n",
      "0.19999989531931522\n",
      "0.6836952461098883\n",
      "0.6999998152255769\n"
     ]
    }
   ],
   "source": [
    "from keras.constraints import MinMaxNorm\n",
    "model=models.Sequential()\n",
    "model.add(layers.Dense(4,input_dim=2,kernel_constraint=MinMaxNorm(min_value=0.2,max_value=0.7)))\n",
    "model.compile(loss='mse')\n",
    "model.fit(X,y,epochs=10,verbose=0)\n",
    "wgts=model.get_weights()\n",
    "k1=wgts[0]\n",
    "k1.shape\n",
    "for i in range(4):\n",
    "  print(np.sqrt(sum(k1[:,i]*k1[:,i])))"
   ]
  },
  {
   "cell_type": "markdown",
   "metadata": {
    "id": "uzybeWEuVFOD"
   },
   "source": [
    "# L1 Regularizer"
   ]
  },
  {
   "cell_type": "code",
   "execution_count": null,
   "metadata": {
    "colab": {
     "base_uri": "https://localhost:8080/"
    },
    "id": "k2q1YHUlVKFD",
    "outputId": "a82df207-af30-4197-b92b-c9ebe39d5aec"
   },
   "outputs": [
    {
     "name": "stdout",
     "output_type": "stream",
     "text": [
      "0.5226684496899824\n",
      "0.8194974665046943\n",
      "1.1121635581920677\n",
      "0.9969673066168979\n"
     ]
    }
   ],
   "source": [
    "from keras import regularizers\n",
    "model=models.Sequential()\n",
    "model.add(layers.Dense(4,input_dim=2,kernel_regularizer=regularizers.l1(0.01)))\n",
    "model.compile(loss='mse')\n",
    "model.fit(X,y,epochs=10,verbose=0)\n",
    "wgts=model.get_weights()\n",
    "k1=wgts[0]\n",
    "k1.shape\n",
    "for i in range(4):\n",
    "  print(np.sqrt(sum(k1[:,i]*k1[:,i])))"
   ]
  },
  {
   "cell_type": "markdown",
   "metadata": {
    "id": "MC52PXEfVyCu"
   },
   "source": [
    "# L2 Regularizers"
   ]
  },
  {
   "cell_type": "code",
   "execution_count": null,
   "metadata": {
    "colab": {
     "base_uri": "https://localhost:8080/"
    },
    "id": "-V5t-_p_V1N-",
    "outputId": "0b32612d-cd40-4993-d461-8137cb8fc2c5"
   },
   "outputs": [
    {
     "name": "stdout",
     "output_type": "stream",
     "text": [
      "0.4683255081563097\n",
      "0.39077182513794967\n",
      "1.0970531992692172\n",
      "1.2214788550827667\n"
     ]
    }
   ],
   "source": [
    "from keras import regularizers\n",
    "model=models.Sequential()\n",
    "model.add(layers.Dense(4,input_dim=2,kernel_regularizer=regularizers.l2(0.01)))\n",
    "model.compile(loss='mse')\n",
    "model.fit(X,y,epochs=10,verbose=0)\n",
    "wgts=model.get_weights()\n",
    "k1=wgts[0]\n",
    "k1.shape\n",
    "for i in range(4):\n",
    "  print(np.sqrt(sum(k1[:,i]*k1[:,i])))"
   ]
  }
 ],
 "metadata": {
  "colab": {
   "provenance": []
  },
  "kernelspec": {
   "display_name": "Python 3 (ipykernel)",
   "language": "python",
   "name": "python3"
  },
  "language_info": {
   "codemirror_mode": {
    "name": "ipython",
    "version": 3
   },
   "file_extension": ".py",
   "mimetype": "text/x-python",
   "name": "python",
   "nbconvert_exporter": "python",
   "pygments_lexer": "ipython3",
   "version": "3.11.5"
  }
 },
 "nbformat": 4,
 "nbformat_minor": 1
}
