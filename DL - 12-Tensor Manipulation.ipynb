{
 "cells": [
  {
   "cell_type": "markdown",
   "metadata": {
    "id": "vh4DN4ODFX1a"
   },
   "source": [
    "# Exercise : Tensor Manipulation"
   ]
  },
  {
   "cell_type": "code",
   "execution_count": null,
   "metadata": {
    "id": "23ajbhneaJ1D"
   },
   "outputs": [],
   "source": [
    "import tensorflow as tf"
   ]
  },
  {
   "cell_type": "markdown",
   "metadata": {
    "id": "neCqsCrjd0Yg"
   },
   "source": [
    "### Creating a scalar tensor"
   ]
  },
  {
   "cell_type": "code",
   "execution_count": null,
   "metadata": {
    "colab": {
     "base_uri": "https://localhost:8080/"
    },
    "id": "CwvcSYc3bBBU",
    "outputId": "d3ca614c-db11-4a52-a0c7-967dd7911d55"
   },
   "outputs": [
    {
     "name": "stdout",
     "output_type": "stream",
     "text": [
      "tf.Tensor(5, shape=(), dtype=int32)\n"
     ]
    }
   ],
   "source": [
    "tens0=tf.constant(5)\n",
    "print(tens0)"
   ]
  },
  {
   "cell_type": "markdown",
   "metadata": {
    "id": "YDRs2ojOeJgQ"
   },
   "source": [
    "### Creating a 1-d tensor"
   ]
  },
  {
   "cell_type": "code",
   "execution_count": null,
   "metadata": {
    "colab": {
     "base_uri": "https://localhost:8080/"
    },
    "id": "1f0jcmAzbei5",
    "outputId": "08d4c4ec-c6f4-41f4-d133-5e8c6b1332e9"
   },
   "outputs": [
    {
     "name": "stdout",
     "output_type": "stream",
     "text": [
      "tf.Tensor([ 5  8 -1  0], shape=(4,), dtype=int32)\n"
     ]
    }
   ],
   "source": [
    "tens2=tf.constant([5,8,-1,0])\n",
    "print(tens2)"
   ]
  },
  {
   "cell_type": "markdown",
   "metadata": {
    "id": "kNHtZloGePBi"
   },
   "source": [
    "### Creating a 2-d tensor"
   ]
  },
  {
   "cell_type": "code",
   "execution_count": null,
   "metadata": {
    "colab": {
     "base_uri": "https://localhost:8080/"
    },
    "id": "xvkRBTIJbxQh",
    "outputId": "24d6bd59-17bb-4986-8e58-852e2d93bfdb"
   },
   "outputs": [
    {
     "name": "stdout",
     "output_type": "stream",
     "text": [
      "tf.Tensor(\n",
      "[[ 5  8 -1  0]\n",
      " [ 4  3  2  1]], shape=(2, 4), dtype=int32)\n"
     ]
    }
   ],
   "source": [
    "tens3=tf.constant([[5,8,-1,0],[4,3,2,1]])\n",
    "print(tens3)"
   ]
  },
  {
   "cell_type": "markdown",
   "metadata": {
    "id": "ya8IyLMCeVKS"
   },
   "source": [
    "### Creating a 3-d tensor"
   ]
  },
  {
   "cell_type": "code",
   "execution_count": null,
   "metadata": {
    "id": "u-nD2YcqcWiO"
   },
   "outputs": [],
   "source": [
    "tens5=tf.constant([     [[1,2,3],[4,5,6]]   ,    [[7,8,9],[10,11,12]]   ])\n",
    "tens5"
   ]
  },
  {
   "cell_type": "code",
   "execution_count": null,
   "metadata": {
    "colab": {
     "base_uri": "https://localhost:8080/"
    },
    "id": "U4UvQHKmjyII",
    "outputId": "b8cd2fde-846e-4658-c066-8eb38422f9e5"
   },
   "outputs": [
    {
     "name": "stdout",
     "output_type": "stream",
     "text": [
      "[[  1  -1   0]\n",
      " [  6 100   8]\n",
      " [  2   3   6]]\n"
     ]
    }
   ],
   "source": [
    "import numpy as np\n",
    "arr4=np.array( [[1,-1,0], [6,7,8], [2,3,6]] )\n",
    "arr4[1,1]=100\n",
    "print(arr4)"
   ]
  },
  {
   "cell_type": "code",
   "execution_count": null,
   "metadata": {
    "id": "zWdT3Ef9aqSQ"
   },
   "outputs": [],
   "source": [
    "tens4=tf.constant( [[1,-1,0], [6,7,8], [2,3,6]] )\n",
    "print(tens4)\n",
    "print(tens4[2,1]) # slicing the element\n",
    "print(np.array(tens4[2,1])) # converting tensor into an array\n",
    "print(np.array(tens4))\n",
    "print(tens4.numpy())# converting tensor into an array - method 2\n"
   ]
  },
  {
   "cell_type": "markdown",
   "metadata": {
    "id": "onFCgHebeZvh"
   },
   "source": [
    "### Creating a 4-d tensor"
   ]
  },
  {
   "cell_type": "code",
   "execution_count": null,
   "metadata": {
    "id": "mhTJYzKCc8hF"
   },
   "outputs": [],
   "source": [
    "tens6=tf.constant(   [ [[[1,2,3],[4,5,6]],[[7,8,9],[10,11,12]]], [[[21,22,23],[24,25,26]],[[27,28,29],[30,31,32]]],[[[1,2,3],[4,5,6]],[[7,8,9],[10,11,12]]] ])\n",
    "tens6"
   ]
  },
  {
   "cell_type": "markdown",
   "metadata": {
    "id": "xXD9afZBmyFp"
   },
   "source": [
    "#### Shape, Rank and Axis"
   ]
  },
  {
   "cell_type": "code",
   "execution_count": null,
   "metadata": {
    "colab": {
     "base_uri": "https://localhost:8080/"
    },
    "id": "1frxQY0bm2y8",
    "outputId": "980cae72-2f2a-4634-fcad-6129adcb003c"
   },
   "outputs": [
    {
     "data": {
      "text/plain": [
       "<tf.Tensor: shape=(3, 3), dtype=int32, numpy=\n",
       "array([[ 1, -1,  0],\n",
       "       [ 6,  7,  8],\n",
       "       [ 2,  3,  6]], dtype=int32)>"
      ]
     },
     "execution_count": 13,
     "metadata": {},
     "output_type": "execute_result"
    }
   ],
   "source": [
    "tens4"
   ]
  },
  {
   "cell_type": "code",
   "execution_count": null,
   "metadata": {
    "colab": {
     "base_uri": "https://localhost:8080/"
    },
    "id": "NYjNdz0gn5xL",
    "outputId": "8f095eed-4b44-4e54-d807-134e9517b191"
   },
   "outputs": [
    {
     "data": {
      "text/plain": [
       "TensorShape([3, 3])"
      ]
     },
     "execution_count": 14,
     "metadata": {},
     "output_type": "execute_result"
    }
   ],
   "source": [
    "tens4.shape"
   ]
  },
  {
   "cell_type": "code",
   "execution_count": null,
   "metadata": {
    "colab": {
     "base_uri": "https://localhost:8080/"
    },
    "id": "mlKWsgcAoAw4",
    "outputId": "9626b2b0-8be6-4393-dcef-ceedcbecf00b"
   },
   "outputs": [
    {
     "name": "stdout",
     "output_type": "stream",
     "text": [
      "Rank of tens4 is  2\n"
     ]
    }
   ],
   "source": [
    "print(\"Rank of tens4 is \",tf.rank(tens4).numpy())"
   ]
  },
  {
   "cell_type": "code",
   "execution_count": null,
   "metadata": {
    "colab": {
     "base_uri": "https://localhost:8080/"
    },
    "id": "kSF3AhSLo8V3",
    "outputId": "491723c6-4483-441f-d1e1-fe17e3e31058"
   },
   "outputs": [
    {
     "name": "stdout",
     "output_type": "stream",
     "text": [
      "(2, 2, 3)\n",
      "Rank of tens6 is  3\n"
     ]
    }
   ],
   "source": [
    "print(tens5.shape)\n",
    "print(\"Rank of tens6 is \",tf.rank(tens5).numpy())"
   ]
  },
  {
   "cell_type": "code",
   "execution_count": null,
   "metadata": {
    "colab": {
     "base_uri": "https://localhost:8080/"
    },
    "id": "1hx3fFiaouC1",
    "outputId": "b653ffe4-3bfb-4498-cdb7-b2f3c24fde5d"
   },
   "outputs": [
    {
     "name": "stdout",
     "output_type": "stream",
     "text": [
      "(3, 2, 2, 3)\n",
      "Rank of tens6 is  4\n"
     ]
    }
   ],
   "source": [
    "print(tens6.shape)\n",
    "print(\"Rank of tens6 is \",tf.rank(tens6).numpy())"
   ]
  },
  {
   "cell_type": "markdown",
   "metadata": {
    "id": "3TJVuQX6ppsl"
   },
   "source": [
    "### Operations on Tensors"
   ]
  },
  {
   "cell_type": "code",
   "execution_count": null,
   "metadata": {
    "id": "iR0yiCY2pwQd"
   },
   "outputs": [],
   "source": [
    "A=tf.constant( [[1,-1,0], [6,7,8], [2,3,6]] )\n",
    "B=tf.constant( [[0,1,2], [2,4,1], [1,2,3]] )\n",
    "print(A)\n",
    "print(B)"
   ]
  },
  {
   "cell_type": "code",
   "execution_count": null,
   "metadata": {
    "colab": {
     "base_uri": "https://localhost:8080/"
    },
    "id": "a-S6AEbwqGOv",
    "outputId": "40a42314-bc0a-4952-ef82-b568585cd487"
   },
   "outputs": [
    {
     "data": {
      "text/plain": [
       "<tf.Tensor: shape=(3, 3), dtype=int32, numpy=\n",
       "array([[ 1,  0,  2],\n",
       "       [ 8, 11,  9],\n",
       "       [ 3,  5,  9]], dtype=int32)>"
      ]
     },
     "execution_count": 53,
     "metadata": {},
     "output_type": "execute_result"
    }
   ],
   "source": [
    "A+B"
   ]
  },
  {
   "cell_type": "code",
   "execution_count": null,
   "metadata": {
    "colab": {
     "base_uri": "https://localhost:8080/"
    },
    "id": "jUtV-3luqM0h",
    "outputId": "93b1468e-a597-47a9-860b-5289d50c5ed8"
   },
   "outputs": [
    {
     "data": {
      "text/plain": [
       "<tf.Tensor: shape=(3, 3), dtype=int32, numpy=\n",
       "array([[ 1, -2, -2],\n",
       "       [ 4,  3,  7],\n",
       "       [ 1,  1,  3]], dtype=int32)>"
      ]
     },
     "execution_count": 54,
     "metadata": {},
     "output_type": "execute_result"
    }
   ],
   "source": [
    "A-B"
   ]
  },
  {
   "cell_type": "code",
   "execution_count": null,
   "metadata": {
    "colab": {
     "base_uri": "https://localhost:8080/"
    },
    "id": "KfIQ-JfwqPrb",
    "outputId": "6c6e831a-e3e0-47a3-cabd-ed4d0170a27b"
   },
   "outputs": [
    {
     "data": {
      "text/plain": [
       "<tf.Tensor: shape=(3, 3), dtype=int32, numpy=\n",
       "array([[ 0, -1,  0],\n",
       "       [12, 28,  8],\n",
       "       [ 2,  6, 18]], dtype=int32)>"
      ]
     },
     "execution_count": 55,
     "metadata": {},
     "output_type": "execute_result"
    }
   ],
   "source": [
    "A*B"
   ]
  },
  {
   "cell_type": "code",
   "execution_count": null,
   "metadata": {
    "colab": {
     "base_uri": "https://localhost:8080/"
    },
    "id": "p3EQ-mhKqfEk",
    "outputId": "64371e69-5bdc-40eb-a5a9-1e83e0f61dda"
   },
   "outputs": [
    {
     "data": {
      "text/plain": [
       "<tf.Tensor: shape=(3, 3), dtype=int32, numpy=\n",
       "array([[-2, -3,  1],\n",
       "       [22, 50, 43],\n",
       "       [12, 26, 25]], dtype=int32)>"
      ]
     },
     "execution_count": 57,
     "metadata": {},
     "output_type": "execute_result"
    }
   ],
   "source": [
    "tf.matmul(A,B)"
   ]
  },
  {
   "cell_type": "code",
   "execution_count": null,
   "metadata": {
    "colab": {
     "base_uri": "https://localhost:8080/"
    },
    "id": "_T3glUZnqnEe",
    "outputId": "681e270a-a493-45c6-9c0a-0d73a13c8906"
   },
   "outputs": [
    {
     "data": {
      "text/plain": [
       "<tf.Tensor: shape=(3, 3), dtype=int32, numpy=\n",
       "array([[-2, -3,  1],\n",
       "       [22, 50, 43],\n",
       "       [12, 26, 25]], dtype=int32)>"
      ]
     },
     "execution_count": 58,
     "metadata": {},
     "output_type": "execute_result"
    }
   ],
   "source": [
    "A@B"
   ]
  },
  {
   "cell_type": "markdown",
   "metadata": {
    "id": "jIA57gQNrtyY"
   },
   "source": [
    "### Broadcasting of tensors"
   ]
  },
  {
   "cell_type": "markdown",
   "metadata": {
    "id": "vRdIYf35sSur"
   },
   "source": [
    "### Example 1:"
   ]
  },
  {
   "cell_type": "code",
   "execution_count": null,
   "metadata": {
    "colab": {
     "base_uri": "https://localhost:8080/"
    },
    "id": "y_QsdQzCr3X0",
    "outputId": "b5bc7bbc-dee8-4d3b-bf34-20acf9263064"
   },
   "outputs": [
    {
     "name": "stdout",
     "output_type": "stream",
     "text": [
      "tf.Tensor(\n",
      "[[ 1 -1  0]\n",
      " [ 6  7  8]\n",
      " [ 2  3  6]], shape=(3, 3), dtype=int32)\n"
     ]
    }
   ],
   "source": [
    "tens1=tf.constant(5)\n",
    "tens2=tens4\n",
    "print(tens2)\n",
    "\n"
   ]
  },
  {
   "cell_type": "code",
   "execution_count": null,
   "metadata": {
    "colab": {
     "base_uri": "https://localhost:8080/"
    },
    "id": "YbdH0qr_sRvg",
    "outputId": "77b7c4a9-75a4-4699-c2fb-8e1492878d62"
   },
   "outputs": [
    {
     "name": "stdout",
     "output_type": "stream",
     "text": [
      "tf.Tensor(5, shape=(), dtype=int32)\n"
     ]
    }
   ],
   "source": [
    "print(tens1)"
   ]
  },
  {
   "cell_type": "code",
   "execution_count": null,
   "metadata": {
    "colab": {
     "base_uri": "https://localhost:8080/"
    },
    "id": "lStFpNakswja",
    "outputId": "a358a6cb-8767-4bfb-fdb8-285ead1cf3d2"
   },
   "outputs": [
    {
     "data": {
      "text/plain": [
       "<tf.Tensor: shape=(3, 3), dtype=int32, numpy=\n",
       "array([[ 6,  4,  5],\n",
       "       [11, 12, 13],\n",
       "       [ 7,  8, 11]], dtype=int32)>"
      ]
     },
     "execution_count": 63,
     "metadata": {},
     "output_type": "execute_result"
    }
   ],
   "source": [
    "tens1+tens2"
   ]
  },
  {
   "cell_type": "markdown",
   "metadata": {
    "id": "rAX2dkuHsWYa"
   },
   "source": [
    "### Example 2:"
   ]
  },
  {
   "cell_type": "code",
   "execution_count": null,
   "metadata": {
    "colab": {
     "base_uri": "https://localhost:8080/"
    },
    "id": "pDw0-v-8fZAR",
    "outputId": "eca3fb1d-e1ce-4e66-a2b2-e4e005a2a382"
   },
   "outputs": [
    {
     "data": {
      "text/plain": [
       "<tf.Tensor: shape=(1, 3), dtype=int32, numpy=array([[1, 2, 3]], dtype=int32)>"
      ]
     },
     "execution_count": 19,
     "metadata": {},
     "output_type": "execute_result"
    }
   ],
   "source": [
    "t1=tf.constant([[1, 2, 3]])\n",
    "t1"
   ]
  },
  {
   "cell_type": "code",
   "execution_count": null,
   "metadata": {
    "colab": {
     "base_uri": "https://localhost:8080/"
    },
    "id": "6RBRpynPfr8v",
    "outputId": "9b14ee56-c81a-4557-ef95-57cfadeebe18"
   },
   "outputs": [
    {
     "data": {
      "text/plain": [
       "<tf.Tensor: shape=(1, 3), dtype=int32, numpy=array([[4, 5, 6]], dtype=int32)>"
      ]
     },
     "execution_count": 20,
     "metadata": {},
     "output_type": "execute_result"
    }
   ],
   "source": [
    "t2=tf.constant([[4, 5, 6]])\n",
    "t2"
   ]
  },
  {
   "cell_type": "code",
   "execution_count": null,
   "metadata": {
    "colab": {
     "base_uri": "https://localhost:8080/"
    },
    "id": "w_b3yNEFgbn3",
    "outputId": "451ea8c6-1801-43c3-ddcf-bcd47702d8e7"
   },
   "outputs": [
    {
     "data": {
      "text/plain": [
       "<tf.Tensor: shape=(1, 3), dtype=int32, numpy=array([[5, 7, 9]], dtype=int32)>"
      ]
     },
     "execution_count": 22,
     "metadata": {},
     "output_type": "execute_result"
    }
   ],
   "source": [
    "t1+t2"
   ]
  },
  {
   "cell_type": "code",
   "execution_count": null,
   "metadata": {
    "id": "fGATWALRgyM9"
   },
   "outputs": [],
   "source": [
    "t3=tf.constant( [[1, 2, 3]])\n",
    "t4=tf.constant( [[4],[5],[6]])"
   ]
  },
  {
   "cell_type": "markdown",
   "metadata": {
    "id": "CwXIQWnqhj95"
   },
   "source": [
    "### Example 3: Broadcasting with same rank and different shapes"
   ]
  },
  {
   "cell_type": "code",
   "execution_count": null,
   "metadata": {
    "id": "2pFRXUYqiaYN"
   },
   "outputs": [],
   "source": [
    "t3=tf.constant( [[1, 2, 3]])\n",
    "t4=tf.constant( [[4],[5],[6]])"
   ]
  },
  {
   "cell_type": "code",
   "execution_count": null,
   "metadata": {
    "colab": {
     "base_uri": "https://localhost:8080/"
    },
    "id": "_1TETJIHikDb",
    "outputId": "51508627-4f0c-4f07-8847-8acedcf82fea"
   },
   "outputs": [
    {
     "data": {
      "text/plain": [
       "<tf.Tensor: shape=(1, 3), dtype=int32, numpy=array([[1, 2, 3]], dtype=int32)>"
      ]
     },
     "execution_count": 36,
     "metadata": {},
     "output_type": "execute_result"
    }
   ],
   "source": [
    "t3"
   ]
  },
  {
   "cell_type": "code",
   "execution_count": null,
   "metadata": {
    "colab": {
     "base_uri": "https://localhost:8080/"
    },
    "id": "lMRhpgsoin6z",
    "outputId": "32517b2f-195d-4127-91d8-a5dbb634ff4d"
   },
   "outputs": [
    {
     "data": {
      "text/plain": [
       "<tf.Tensor: shape=(3, 1), dtype=int32, numpy=\n",
       "array([[4],\n",
       "       [5],\n",
       "       [6]], dtype=int32)>"
      ]
     },
     "execution_count": 37,
     "metadata": {},
     "output_type": "execute_result"
    }
   ],
   "source": [
    "t4"
   ]
  },
  {
   "cell_type": "code",
   "execution_count": null,
   "metadata": {
    "colab": {
     "base_uri": "https://localhost:8080/"
    },
    "id": "awNJVU-QiP3e",
    "outputId": "b199c1ba-ced6-4947-b720-6cab40f04a10"
   },
   "outputs": [
    {
     "data": {
      "text/plain": [
       "<tf.Tensor: shape=(3, 3), dtype=int32, numpy=\n",
       "array([[5, 6, 7],\n",
       "       [6, 7, 8],\n",
       "       [7, 8, 9]], dtype=int32)>"
      ]
     },
     "execution_count": 38,
     "metadata": {},
     "output_type": "execute_result"
    }
   ],
   "source": [
    "t3+t4"
   ]
  },
  {
   "cell_type": "markdown",
   "metadata": {
    "id": "tK_h_JdiseCh"
   },
   "source": [
    "### Example 4"
   ]
  },
  {
   "cell_type": "code",
   "execution_count": null,
   "metadata": {
    "colab": {
     "base_uri": "https://localhost:8080/"
    },
    "id": "7ZxyLpFKn5e5",
    "outputId": "4f949de7-1f47-4131-eba6-8825f5c1920f"
   },
   "outputs": [
    {
     "data": {
      "text/plain": [
       "<tf.Tensor: shape=(3, 1, 4), dtype=int32, numpy=\n",
       "array([[[1, 2, 3, 4]],\n",
       "\n",
       "       [[7, 8, 9, 0]],\n",
       "\n",
       "       [[0, 1, 2, 3]]], dtype=int32)>"
      ]
     },
     "execution_count": 49,
     "metadata": {},
     "output_type": "execute_result"
    }
   ],
   "source": [
    "tens5=tf.constant([     [[1,2,3,4]]   ,    [[7,8,9,0]], [[0,1,2,3]],    ])\n",
    "tens5"
   ]
  },
  {
   "cell_type": "code",
   "execution_count": null,
   "metadata": {
    "colab": {
     "base_uri": "https://localhost:8080/"
    },
    "id": "-jD_2r9aol4G",
    "outputId": "3a2b36aa-8e92-4a7d-de74-b8407e9e57f5"
   },
   "outputs": [
    {
     "data": {
      "text/plain": [
       "<tf.Tensor: shape=(3, 1, 4), dtype=int32, numpy=\n",
       "array([[[1, 2, 3, 4]],\n",
       "\n",
       "       [[7, 8, 9, 0]],\n",
       "\n",
       "       [[0, 1, 2, 3]]], dtype=int32)>"
      ]
     },
     "execution_count": 50,
     "metadata": {},
     "output_type": "execute_result"
    }
   ],
   "source": [
    "tens6=tf.constant([         [[7],[8],[9],[0],[6]]    ])\n",
    "tens5"
   ]
  },
  {
   "cell_type": "code",
   "execution_count": null,
   "metadata": {
    "id": "Dra1gIgwpB4D"
   },
   "outputs": [],
   "source": [
    "tens5+tens6"
   ]
  },
  {
   "cell_type": "markdown",
   "metadata": {
    "id": "hEbg8aC6s1Wj"
   },
   "source": [
    "### Tensorflow Functions"
   ]
  },
  {
   "cell_type": "markdown",
   "metadata": {
    "id": "QTsF53whuViz"
   },
   "source": [
    "#### reduce_ max,reduce_min,reduce_mean, reduce_sum,reduce_prod"
   ]
  },
  {
   "cell_type": "code",
   "execution_count": null,
   "metadata": {
    "colab": {
     "base_uri": "https://localhost:8080/"
    },
    "id": "zDcvBtARs43O",
    "outputId": "96b51880-8718-4172-fe4e-361d9062e22a"
   },
   "outputs": [
    {
     "data": {
      "text/plain": [
       "<tf.Tensor: shape=(3, 4), dtype=int32, numpy=\n",
       "array([[ 1, -1,  0,  3],\n",
       "       [ 6,  7, 18,  5],\n",
       "       [ 2,  3,  6, -3]], dtype=int32)>"
      ]
     },
     "execution_count": 54,
     "metadata": {},
     "output_type": "execute_result"
    }
   ],
   "source": [
    "tensor=tf.constant( [[1,-1,0,3], [6,7,18,5], [2,3,6,-3]] )\n",
    "tensor"
   ]
  },
  {
   "cell_type": "code",
   "execution_count": null,
   "metadata": {
    "colab": {
     "base_uri": "https://localhost:8080/"
    },
    "id": "aLAtsbUKtKbE",
    "outputId": "01fd7bce-90c5-4246-9e22-655fb2bd84bb"
   },
   "outputs": [
    {
     "data": {
      "text/plain": [
       "18"
      ]
     },
     "execution_count": 56,
     "metadata": {},
     "output_type": "execute_result"
    }
   ],
   "source": [
    "tf.reduce_max(tensor).numpy()"
   ]
  },
  {
   "cell_type": "code",
   "execution_count": null,
   "metadata": {
    "colab": {
     "base_uri": "https://localhost:8080/"
    },
    "id": "QAnGlNOntczH",
    "outputId": "eb4c3956-a57d-46cf-bd0e-361c79a498b4"
   },
   "outputs": [
    {
     "data": {
      "text/plain": [
       "array([ 6,  7, 18,  5], dtype=int32)"
      ]
     },
     "execution_count": 57,
     "metadata": {},
     "output_type": "execute_result"
    }
   ],
   "source": [
    "tf.reduce_max(tensor,0).numpy() # column wise max"
   ]
  },
  {
   "cell_type": "code",
   "execution_count": null,
   "metadata": {
    "colab": {
     "base_uri": "https://localhost:8080/"
    },
    "id": "5wEYeYW-tiCp",
    "outputId": "c6c2d289-be42-47ca-fb4e-37c240b3bb8d"
   },
   "outputs": [
    {
     "data": {
      "text/plain": [
       "array([ 3, 18,  6], dtype=int32)"
      ]
     },
     "execution_count": 58,
     "metadata": {},
     "output_type": "execute_result"
    }
   ],
   "source": [
    "tf.reduce_max(tensor,1).numpy()"
   ]
  },
  {
   "cell_type": "markdown",
   "metadata": {
    "id": "ukI7t9u9uezx"
   },
   "source": [
    "#### argmax/argmin\n",
    "\n"
   ]
  },
  {
   "cell_type": "code",
   "execution_count": null,
   "metadata": {
    "id": "hfeJpGd8t5Ul"
   },
   "outputs": [],
   "source": [
    "tensor=tf.constant( [[8,-1,0,13], [6,7,18,5], [12,3,6,-3]] )"
   ]
  },
  {
   "cell_type": "code",
   "execution_count": null,
   "metadata": {
    "colab": {
     "base_uri": "https://localhost:8080/"
    },
    "id": "drrbiNwqum7i",
    "outputId": "a84ce13f-e87f-468c-f13e-b37e0748308b"
   },
   "outputs": [
    {
     "data": {
      "text/plain": [
       "array([2, 1, 1, 0])"
      ]
     },
     "execution_count": 64,
     "metadata": {},
     "output_type": "execute_result"
    }
   ],
   "source": [
    "tf.argmax(tensor,0).numpy()"
   ]
  },
  {
   "cell_type": "code",
   "execution_count": null,
   "metadata": {
    "colab": {
     "base_uri": "https://localhost:8080/"
    },
    "id": "w47XHgHCuwit",
    "outputId": "c4fe538f-7c6b-4530-a5e2-4eec3ab93378"
   },
   "outputs": [
    {
     "data": {
      "text/plain": [
       "array([3, 2, 0])"
      ]
     },
     "execution_count": 65,
     "metadata": {},
     "output_type": "execute_result"
    }
   ],
   "source": [
    "tf.argmax(tensor,1).numpy()"
   ]
  },
  {
   "cell_type": "code",
   "execution_count": null,
   "metadata": {
    "colab": {
     "base_uri": "https://localhost:8080/"
    },
    "id": "u5dp3ADjvnsx",
    "outputId": "0a2eeb28-327b-4fdd-f1bb-e36dc17b5672"
   },
   "outputs": [
    {
     "data": {
      "text/plain": [
       "array([1, 0, 0, 2])"
      ]
     },
     "execution_count": 66,
     "metadata": {},
     "output_type": "execute_result"
    }
   ],
   "source": [
    "tf.argmin(tensor,0).numpy()"
   ]
  },
  {
   "cell_type": "markdown",
   "metadata": {
    "id": "GSf8bP_pwH8K"
   },
   "source": [
    "#### Softmax"
   ]
  },
  {
   "cell_type": "code",
   "execution_count": null,
   "metadata": {
    "colab": {
     "base_uri": "https://localhost:8080/"
    },
    "id": "R6Yy2QPPwJh0",
    "outputId": "997b3c3b-25df-4dc7-da5a-1e612decba4d"
   },
   "outputs": [
    {
     "data": {
      "text/plain": [
       "<tf.Tensor: shape=(4,), dtype=float32, numpy=array([ 5.,  8., -1.,  0.], dtype=float32)>"
      ]
     },
     "execution_count": 72,
     "metadata": {},
     "output_type": "execute_result"
    }
   ],
   "source": [
    "tens1=tf.constant([5.,8.,-1.,0.])\n",
    "tens1"
   ]
  },
  {
   "cell_type": "code",
   "execution_count": null,
   "metadata": {
    "colab": {
     "base_uri": "https://localhost:8080/"
    },
    "id": "Ql2nz2ADwN0Z",
    "outputId": "ee6dd200-91cc-496c-c571-9a21d0c1e4fd"
   },
   "outputs": [
    {
     "data": {
      "text/plain": [
       "array([4.74051535e-02, 9.52157974e-01, 1.17505624e-04, 3.19413404e-04],\n",
       "      dtype=float32)"
      ]
     },
     "execution_count": 75,
     "metadata": {},
     "output_type": "execute_result"
    }
   ],
   "source": [
    "sfmx=tf.nn.softmax(tens1)\n",
    "sfmx.numpy()"
   ]
  },
  {
   "cell_type": "code",
   "execution_count": null,
   "metadata": {
    "colab": {
     "base_uri": "https://localhost:8080/"
    },
    "id": "eMgyjeTMxBMd",
    "outputId": "70b4f6ed-3de9-4403-9edd-b6ee40b83784"
   },
   "outputs": [
    {
     "name": "stdout",
     "output_type": "stream",
     "text": [
      "148.4131591025766\n",
      "2980.9579870417283\n",
      "0.36787944117144233\n",
      "1.0\n"
     ]
    }
   ],
   "source": [
    "print(np.exp(5.0))\n",
    "print(np.exp(8.0))\n",
    "print(np.exp(-1.0))\n",
    "print(np.exp(0.0))\n",
    "total=np.exp(5.0)+np.exp(8.0)+np.exp(-1.0)+np.exp(0.0)\n",
    "\n"
   ]
  },
  {
   "cell_type": "code",
   "execution_count": null,
   "metadata": {
    "colab": {
     "base_uri": "https://localhost:8080/"
    },
    "id": "FSVStU2-x6QK",
    "outputId": "c4c11e6d-433c-479c-c6ba-86d81e217991"
   },
   "outputs": [
    {
     "name": "stdout",
     "output_type": "stream",
     "text": [
      "0.04740515191131973\n",
      "0.9521579290641329\n",
      "0.00011750562348538316\n",
      "0.00031941340106206745\n"
     ]
    }
   ],
   "source": [
    "print(np.exp(5.0)/total)\n",
    "print(np.exp(8.0)/total)\n",
    "print(np.exp(-1.0)/total)\n",
    "print(np.exp(0.0)/total)"
   ]
  },
  {
   "cell_type": "markdown",
   "metadata": {
    "id": "PDv4YDGmq3T2"
   },
   "source": [
    "#### Ragged Tensor"
   ]
  },
  {
   "cell_type": "code",
   "execution_count": null,
   "metadata": {
    "colab": {
     "base_uri": "https://localhost:8080/"
    },
    "id": "yRh1ohDwq8JL",
    "outputId": "686298e7-86d6-4bbd-8160-c9c2d7dbe51f"
   },
   "outputs": [
    {
     "data": {
      "text/plain": [
       "<tf.RaggedTensor [[8, 3, 5], [6, 7, 18, 5], [12, 3, 6, 0, -1], [1, 2, 3]]>"
      ]
     },
     "execution_count": 8,
     "metadata": {},
     "output_type": "execute_result"
    }
   ],
   "source": [
    "data= [  [8,3,5], [6,7,18,5], [12,3,6,0,-1],[1,2,3]] \n",
    "rgd_array=tf.ragged.constant(data)\n",
    "rgd_array"
   ]
  },
  {
   "cell_type": "markdown",
   "metadata": {
    "id": "RmAxzGE2wZpr"
   },
   "source": [
    "#### Sparse Tensor"
   ]
  },
  {
   "cell_type": "code",
   "execution_count": null,
   "metadata": {
    "colab": {
     "base_uri": "https://localhost:8080/"
    },
    "id": "zmb9mENZwecA",
    "outputId": "a5e89989-87e6-4304-8103-20e20e4cd137"
   },
   "outputs": [
    {
     "data": {
      "text/plain": [
       "SparseTensor(indices=tf.Tensor(\n",
       "[[1 2]\n",
       " [3 1]\n",
       " [4 4]], shape=(3, 2), dtype=int64), values=tf.Tensor([16 18 10], shape=(3,), dtype=int32), dense_shape=tf.Tensor([5 6], shape=(2,), dtype=int64))"
      ]
     },
     "execution_count": 15,
     "metadata": {},
     "output_type": "execute_result"
    }
   ],
   "source": [
    "sprtensor =tf.sparse.SparseTensor(indices=[[1,2],[3,1],[4,4]],values=[16,18,10],dense_shape=[5,6])\n",
    "sprtensor"
   ]
  },
  {
   "cell_type": "markdown",
   "metadata": {
    "id": "D-BHEBn7xo7q"
   },
   "source": [
    "#### Displaying the Dense Tensor"
   ]
  },
  {
   "cell_type": "code",
   "execution_count": null,
   "metadata": {
    "colab": {
     "base_uri": "https://localhost:8080/"
    },
    "id": "VFRZ1RH1xr5b",
    "outputId": "59c7a5a0-ebcb-41ec-8c9e-5ff2f4de1c8e"
   },
   "outputs": [
    {
     "data": {
      "text/plain": [
       "<tf.Tensor: shape=(5, 6), dtype=int32, numpy=\n",
       "array([[ 0,  0,  0,  0,  0,  0],\n",
       "       [ 0,  0, 16,  0,  0,  0],\n",
       "       [ 0,  0,  0,  0,  0,  0],\n",
       "       [ 0, 18,  0,  0,  0,  0],\n",
       "       [ 0,  0,  0,  0, 10,  0]], dtype=int32)>"
      ]
     },
     "execution_count": 18,
     "metadata": {},
     "output_type": "execute_result"
    }
   ],
   "source": [
    "dentensor=tf.sparse.to_dense(sprtensor)\n",
    "dentensor"
   ]
  },
  {
   "cell_type": "markdown",
   "metadata": {
    "id": "AwpSDGn813pX"
   },
   "source": [
    "#### Getting Sparse from Dense"
   ]
  },
  {
   "cell_type": "code",
   "execution_count": null,
   "metadata": {
    "colab": {
     "base_uri": "https://localhost:8080/"
    },
    "id": "roMiZdog18GS",
    "outputId": "a82a167a-0c3b-45b5-dc38-5ceef8eec76d"
   },
   "outputs": [
    {
     "data": {
      "text/plain": [
       "SparseTensor(indices=tf.Tensor(\n",
       "[[1 2]\n",
       " [3 1]\n",
       " [4 4]], shape=(3, 2), dtype=int64), values=tf.Tensor([16 18 10], shape=(3,), dtype=int32), dense_shape=tf.Tensor([5 6], shape=(2,), dtype=int64))"
      ]
     },
     "execution_count": 20,
     "metadata": {},
     "output_type": "execute_result"
    }
   ],
   "source": [
    "tf.sparse.from_dense(dentensor)"
   ]
  }
 ],
 "metadata": {
  "colab": {
   "provenance": []
  },
  "kernelspec": {
   "display_name": "Python 3 (ipykernel)",
   "language": "python",
   "name": "python3"
  },
  "language_info": {
   "codemirror_mode": {
    "name": "ipython",
    "version": 3
   },
   "file_extension": ".py",
   "mimetype": "text/x-python",
   "name": "python",
   "nbconvert_exporter": "python",
   "pygments_lexer": "ipython3",
   "version": "3.11.5"
  }
 },
 "nbformat": 4,
 "nbformat_minor": 1
}
