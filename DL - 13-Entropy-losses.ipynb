{
 "cells": [
  {
   "cell_type": "markdown",
   "metadata": {
    "id": "BIWVnM8VFBZo"
   },
   "source": [
    "# Exercise : Entropy-losses"
   ]
  },
  {
   "cell_type": "markdown",
   "metadata": {
    "id": "J8AOdRHxEMEC"
   },
   "source": [
    "**Binary Cross Entropy**"
   ]
  },
  {
   "cell_type": "code",
   "execution_count": null,
   "metadata": {
    "colab": {
     "base_uri": "https://localhost:8080/"
    },
    "id": "KDs8sLaS1JZC",
    "outputId": "75396426-fbba-4eb5-e3c9-387afc70e0b5"
   },
   "outputs": [
    {
     "name": "stdout",
     "output_type": "stream",
     "text": [
      "0.42123385917819606\n"
     ]
    }
   ],
   "source": [
    "import numpy as np\n",
    "y_true=[1,0,1]\n",
    "y_pred=[0.74,0.43,0.67]\n",
    "[e1,e2,e3]=[-np.log(0.74),-np.log(0.57),-np.log(0.67)]\n",
    "print((e1+e2+e3)/3)\n",
    "\n"
   ]
  },
  {
   "cell_type": "code",
   "execution_count": null,
   "metadata": {
    "colab": {
     "base_uri": "https://localhost:8080/"
    },
    "id": "UY_zYbK819Uy",
    "outputId": "66574bc5-46a3-4565-a9fc-51c2fb1fe300"
   },
   "outputs": [
    {
     "data": {
      "text/plain": [
       "0.42123365"
      ]
     },
     "execution_count": 4,
     "metadata": {},
     "output_type": "execute_result"
    }
   ],
   "source": [
    "from tensorflow.keras.losses import BinaryCrossentropy\n",
    "bce = BinaryCrossentropy()\n",
    "loss = bce(y_true,y_pred).numpy()\n",
    "loss"
   ]
  },
  {
   "cell_type": "code",
   "execution_count": null,
   "metadata": {
    "colab": {
     "base_uri": "https://localhost:8080/"
    },
    "id": "fUXl3epTvxvQ",
    "outputId": "71103308-8746-42dd-816a-94b3da1486e7"
   },
   "outputs": [
    {
     "data": {
      "text/plain": [
       "0.3242870277875165"
      ]
     },
     "execution_count": 5,
     "metadata": {},
     "output_type": "execute_result"
    }
   ],
   "source": [
    "import numpy as np\n",
    "true_values = [1,1,0] \n",
    "predictions = [0.9,0.7,0.4]\n",
    "(-np.log(0.9)-np.log(0.7)-np.log(0.6))/3\n"
   ]
  },
  {
   "cell_type": "code",
   "execution_count": null,
   "metadata": {
    "colab": {
     "base_uri": "https://localhost:8080/"
    },
    "id": "cUpLxpiCvVhd",
    "outputId": "060e9e42-82ff-4624-b6a5-1a1607f38c71"
   },
   "outputs": [
    {
     "data": {
      "text/plain": [
       "0.32428685"
      ]
     },
     "execution_count": 3,
     "metadata": {},
     "output_type": "execute_result"
    }
   ],
   "source": [
    "true_values = [1,1,0] \n",
    "predictions = [0.9,0.7,0.4]\n",
    "from tensorflow.keras.losses import BinaryCrossentropy\n",
    "bce = BinaryCrossentropy()\n",
    "loss = bce(true_values, predictions).numpy()\n",
    "loss"
   ]
  },
  {
   "cell_type": "markdown",
   "metadata": {
    "id": "AElXWA5WwYo2"
   },
   "source": [
    "**Categorical Cross Entropy**"
   ]
  },
  {
   "cell_type": "code",
   "execution_count": null,
   "metadata": {
    "colab": {
     "base_uri": "https://localhost:8080/"
    },
    "id": "Jn7yOLgjxgnn",
    "outputId": "bfff5259-ded3-4a58-e9f7-16c3eb42f169"
   },
   "outputs": [
    {
     "name": "stdout",
     "output_type": "stream",
     "text": [
      "0.1825142095650712\n"
     ]
    }
   ],
   "source": [
    "# true_values = [1,2,3] : Three classes\n",
    "y_true = [[1., 0., 0.], [0., 1., 0.], [0., 0., 1.],[1.,0.,0.]]\n",
    "pij= [[.9, .05, .05], [.05, .89, .06], [.05, .01, .94],[0.64,0.12,0.24]]\n",
    "[e1, e2,e3,e4]=[-np.log(0.9), -np.log(0.89), -np.log(0.94), -np.log(0.64)]\n",
    "print((e1+e2+e3+e4)/4)\n"
   ]
  },
  {
   "cell_type": "code",
   "execution_count": null,
   "metadata": {
    "colab": {
     "base_uri": "https://localhost:8080/"
    },
    "id": "z98aNCI_x5IH",
    "outputId": "38fd8b9d-d895-4c2a-ecfb-92ea4b731218"
   },
   "outputs": [
    {
     "data": {
      "text/plain": [
       "0.18251422"
      ]
     },
     "execution_count": 10,
     "metadata": {},
     "output_type": "execute_result"
    }
   ],
   "source": [
    "from tensorflow.keras.losses import CategoricalCrossentropy\n",
    "cce = CategoricalCrossentropy()\n",
    "loss = cce(y_true, y_pred).numpy()\n",
    "loss"
   ]
  },
  {
   "cell_type": "markdown",
   "metadata": {
    "id": "FDuuseSqxQ20"
   },
   "source": [
    "**Sparse Categorical Cross Entropy**"
   ]
  },
  {
   "cell_type": "code",
   "execution_count": null,
   "metadata": {
    "colab": {
     "base_uri": "https://localhost:8080/"
    },
    "id": "FGzZGiW7xYuK",
    "outputId": "cdb5c911-287a-4b43-d87f-9d7c7b5606df"
   },
   "outputs": [
    {
     "data": {
      "text/plain": [
       "0.8892045"
      ]
     },
     "execution_count": 16,
     "metadata": {},
     "output_type": "execute_result"
    }
   ],
   "source": [
    "from tensorflow.keras.losses import SparseCategoricalCrossentropy\n",
    "y_true = [1, 0, 2, 1, 2, 0] # there are three class and 6 items\n",
    "y_pred = [ [0.05, 0.9, 0.05], [0.89, 0.05, 0.06], [0.05, 0.01, 0.94], [0.1, 0.8, 0.1], [0.7, 0.2, 0.1] ,  [0.08, 0.05 ,0.87]]\n",
    "scce = SparseCategoricalCrossentropy()\n",
    "scce(y_true, y_pred).numpy()"
   ]
  },
  {
   "cell_type": "code",
   "execution_count": null,
   "metadata": {
    "colab": {
     "base_uri": "https://localhost:8080/"
    },
    "id": "6-5MgzsbyoUC",
    "outputId": "a461ecb1-d198-48f5-c1d9-3a6eb12dd075"
   },
   "outputs": [
    {
     "data": {
      "text/plain": [
       "0.8892045040413961"
      ]
     },
     "execution_count": 11,
     "metadata": {},
     "output_type": "execute_result"
    }
   ],
   "source": [
    "(-np.log(0.9)-np.log(0.89)-np.log(0.94)-np.log(0.8)-np.log(0.1)-np.log(0.08))/6"
   ]
  }
 ],
 "metadata": {
  "colab": {
   "provenance": []
  },
  "kernelspec": {
   "display_name": "Python 3 (ipykernel)",
   "language": "python",
   "name": "python3"
  },
  "language_info": {
   "codemirror_mode": {
    "name": "ipython",
    "version": 3
   },
   "file_extension": ".py",
   "mimetype": "text/x-python",
   "name": "python",
   "nbconvert_exporter": "python",
   "pygments_lexer": "ipython3",
   "version": "3.11.5"
  }
 },
 "nbformat": 4,
 "nbformat_minor": 1
}
