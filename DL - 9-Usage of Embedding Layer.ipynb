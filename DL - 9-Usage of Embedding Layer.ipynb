{
 "cells": [
  {
   "cell_type": "markdown",
   "metadata": {
    "id": "tkzG6tF6e7L6"
   },
   "source": [
    "# Exercise 9: Usage of Embedding Layer"
   ]
  },
  {
   "cell_type": "markdown",
   "metadata": {
    "id": "4cu_5M82syC2"
   },
   "source": [
    "## Objective : Learning the usage of Embeddding Layer for Text Data"
   ]
  },
  {
   "cell_type": "markdown",
   "metadata": {
    "id": "cgncteBps43b"
   },
   "source": [
    "## Problem: Create an ANN using an embedded layer to classify the following sentences:\n",
    "'Never coming back!',<br>\n",
    "          'horrible service',<br>\n",
    "          'rude waitress',<br>\n",
    "          'cold food',<br>\n",
    "          'horrible food!',<br>\n",
    "          'awesome',<br>\n",
    "          'awesome services!',<br>\n",
    "          'rocks',<br>\n",
    "          'poor work',<br>\n",
    "          'couldn\\'t have done better'\n",
    "          <br> where the 1,2,3,4,5 and 9 are negative statements and the rest are positive statements"
   ]
  },
  {
   "cell_type": "markdown",
   "metadata": {
    "id": "5vFRE7JVuBwk"
   },
   "source": [
    "## Step 1: Data Preparation"
   ]
  },
  {
   "cell_type": "markdown",
   "metadata": {
    "id": "9jwUB9OPuL-s"
   },
   "source": [
    "**Encoding the words**"
   ]
  },
  {
   "cell_type": "code",
   "execution_count": null,
   "metadata": {
    "id": "ajuhHFIouqdU"
   },
   "outputs": [],
   "source": [
    "reviews =['never coming back!',\n",
    "          'horrible service',\n",
    "          'rude waitress',\n",
    "          'cold food',\n",
    "          'horrible food!',\n",
    "          'awesome',\n",
    "          'awesome services!',\n",
    "          'rocks',\n",
    "          'poor work',\n",
    "          'couldn\\'t have done better'\n",
    "]"
   ]
  },
  {
   "cell_type": "code",
   "execution_count": null,
   "metadata": {
    "colab": {
     "base_uri": "https://localhost:8080/"
    },
    "id": "OIioEy9juM7Z",
    "outputId": "ce8dcda8-f30d-4ef3-9d68-298cc806222b"
   },
   "outputs": [
    {
     "data": {
      "text/plain": [
       "[[4, 5, 6],\n",
       " [1, 7],\n",
       " [8, 9],\n",
       " [10, 2],\n",
       " [1, 2],\n",
       " [3],\n",
       " [3, 11],\n",
       " [12],\n",
       " [13, 14],\n",
       " [15, 16, 17, 18]]"
      ]
     },
     "execution_count": 11,
     "metadata": {},
     "output_type": "execute_result"
    }
   ],
   "source": [
    "from keras.preprocessing.text import Tokenizer\n",
    "t=Tokenizer()\n",
    "t.fit_on_texts(reviews) # tokenizing the words\n",
    "encoded_docs=t.texts_to_sequences(reviews)\n",
    "encoded_docs"
   ]
  },
  {
   "cell_type": "markdown",
   "metadata": {
    "id": "j60JT35ixEO9"
   },
   "source": [
    "**Convert the above data so that all the lists have same number of elements**"
   ]
  },
  {
   "cell_type": "code",
   "execution_count": null,
   "metadata": {
    "colab": {
     "base_uri": "https://localhost:8080/"
    },
    "id": "z7Tz8TFCxBat",
    "outputId": "abe72089-92a5-44a1-9afa-a04d60c5cffb"
   },
   "outputs": [
    {
     "data": {
      "text/plain": [
       "array([[ 4,  5,  6,  0],\n",
       "       [ 1,  7,  0,  0],\n",
       "       [ 8,  9,  0,  0],\n",
       "       [10,  2,  0,  0],\n",
       "       [ 1,  2,  0,  0],\n",
       "       [ 3,  0,  0,  0],\n",
       "       [ 3, 11,  0,  0],\n",
       "       [12,  0,  0,  0],\n",
       "       [13, 14,  0,  0],\n",
       "       [15, 16, 17, 18]], dtype=int32)"
      ]
     },
     "execution_count": 14,
     "metadata": {},
     "output_type": "execute_result"
    }
   ],
   "source": [
    "from tensorflow.keras.preprocessing.sequence import pad_sequences\n",
    "max_length=4\n",
    "padded_reviews=pad_sequences(encoded_docs,maxlen=4,padding='post')\n",
    "padded_reviews"
   ]
  },
  {
   "cell_type": "code",
   "execution_count": null,
   "metadata": {
    "id": "sTrTRl176DFu"
   },
   "outputs": [],
   "source": [
    "from numpy import array\n",
    "y=array([0,0,0,0,0,1,1,1,0,1])"
   ]
  },
  {
   "cell_type": "markdown",
   "metadata": {
    "id": "dDaGOYFSyuRL"
   },
   "source": [
    "## Step 2 : Creation of ANN using Embedded Layer"
   ]
  },
  {
   "cell_type": "code",
   "execution_count": null,
   "metadata": {
    "id": "w2RvFHD3ylKT"
   },
   "outputs": [],
   "source": [
    "from keras.models import Sequential\n",
    "from keras.layers import Embedding # meant for input operation\n",
    "from keras.layers import Dense, Flatten"
   ]
  },
  {
   "cell_type": "code",
   "execution_count": null,
   "metadata": {
    "id": "JXIqeAqf3494"
   },
   "outputs": [],
   "source": [
    "model=Sequential()\n",
    "voc_size=19 # one added with the number of unique terms\n",
    "emb_layer=Embedding(input_dim=voc_size,output_dim=10,input_length=max_length)\n",
    "model.add(emb_layer)\n",
    "model.add(Flatten())\n",
    "model.add(Dense(16,activation='relu')) # addding hidden layer\n",
    "model.add(Dense(1,activation='sigmoid'))\n",
    "model.summary()"
   ]
  },
  {
   "cell_type": "markdown",
   "metadata": {},
   "source": [
    "# Step 3: Compile and fit the model"
   ]
  },
  {
   "cell_type": "code",
   "execution_count": null,
   "metadata": {
    "id": "_dTTYlAh5VVP"
   },
   "outputs": [],
   "source": [
    "model.compile(optimizer='adam',loss='binary_crossentropy',metrics=['acc'])"
   ]
  },
  {
   "cell_type": "code",
   "execution_count": null,
   "metadata": {
    "id": "cnbxbpcE5ynu"
   },
   "outputs": [],
   "source": [
    "model.fit(padded_reviews,y,epochs=100)"
   ]
  },
  {
   "cell_type": "markdown",
   "metadata": {
    "id": "Gh-7e21d7F24"
   },
   "source": [
    "# Step 4: Inline Prediction and Evaluation\n"
   ]
  },
  {
   "cell_type": "code",
   "execution_count": null,
   "metadata": {
    "colab": {
     "base_uri": "https://localhost:8080/"
    },
    "id": "JF444p2b7Kp9",
    "outputId": "ffbd1b45-95ce-444a-e6cb-c2f4b468d413"
   },
   "outputs": [
    {
     "name": "stdout",
     "output_type": "stream",
     "text": [
      "1/1 [==============================] - 0s 26ms/step\n",
      "[[0.]\n",
      " [0.]\n",
      " [0.]\n",
      " [0.]\n",
      " [0.]\n",
      " [1.]\n",
      " [1.]\n",
      " [1.]\n",
      " [0.]\n",
      " [1.]]\n"
     ]
    }
   ],
   "source": [
    "import numpy as np\n",
    "y_pr=np.round(model.predict(padded_reviews))\n",
    "print(y_pr)"
   ]
  },
  {
   "cell_type": "markdown",
   "metadata": {},
   "source": [
    "# Step 5: Computing the acccuracy"
   ]
  },
  {
   "cell_type": "code",
   "execution_count": null,
   "metadata": {
    "colab": {
     "base_uri": "https://localhost:8080/"
    },
    "id": "37Mk8Xpb8E6H",
    "outputId": "67529679-8bca-4ec2-f03c-e88c41d90694"
   },
   "outputs": [
    {
     "name": "stdout",
     "output_type": "stream",
     "text": [
      "1/1 [==============================] - 0s 33ms/step\n",
      "Binary Accuracy is  1.0\n"
     ]
    }
   ],
   "source": [
    "from keras.metrics import BinaryAccuracy\n",
    "bac=BinaryAccuracy()\n",
    "acc=bac(y,model.predict(padded_reviews)).numpy()\n",
    "print('Binary Accuracy is ',acc)"
   ]
  },
  {
   "cell_type": "markdown",
   "metadata": {},
   "source": [
    "# Step 6: Out of Sample Prediction"
   ]
  },
  {
   "cell_type": "code",
   "execution_count": null,
   "metadata": {
    "colab": {
     "base_uri": "https://localhost:8080/"
    },
    "id": "TzBnPbvE9V7P",
    "outputId": "2ac6638a-ca05-4b99-9e0b-506a20c81f05"
   },
   "outputs": [
    {
     "name": "stdout",
     "output_type": "stream",
     "text": [
      "1/1 [==============================] - 0s 108ms/step\n",
      "0.0\n"
     ]
    }
   ],
   "source": [
    "test=array([[10,1,0,0]]) # Predict the class of the sentence is \"cold horrible\"\n",
    "print(np.round(model.predict(test)[0,0]))"
   ]
  },
  {
   "cell_type": "markdown",
   "metadata": {},
   "source": [
    "# Conclusion: Thus, we constructed ANN model to classify the given sentences."
   ]
  },
  {
   "cell_type": "code",
   "execution_count": null,
   "metadata": {},
   "outputs": [],
   "source": []
  }
 ],
 "metadata": {
  "colab": {
   "provenance": []
  },
  "kernelspec": {
   "display_name": "Python 3 (ipykernel)",
   "language": "python",
   "name": "python3"
  },
  "language_info": {
   "codemirror_mode": {
    "name": "ipython",
    "version": 3
   },
   "file_extension": ".py",
   "mimetype": "text/x-python",
   "name": "python",
   "nbconvert_exporter": "python",
   "pygments_lexer": "ipython3",
   "version": "3.11.5"
  }
 },
 "nbformat": 4,
 "nbformat_minor": 1
}
